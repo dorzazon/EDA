{
 "cells": [
  {
   "cell_type": "code",
   "execution_count": 24,
   "id": "armed-uganda",
   "metadata": {},
   "outputs": [],
   "source": [
    "import pandas as pd\n",
    "import seaborn as sns\n",
    "sns.set(rc={'figure.figsize': (10, 6)})\n",
    "sns.set_style('whitegrid')\n",
    "flatui = [\"#8B0ABE\", \"#4989F5\", \"#FE2665\", \"#F28201\", \"#F28201\", \"#FFB624\", \"#e74c3c\", \"#34495e\"]\n",
    "sns.set_palette(flatui)"
   ]
  },
  {
   "cell_type": "code",
   "execution_count": 14,
   "id": "completed-tobacco",
   "metadata": {},
   "outputs": [
    {
     "data": {
      "text/html": [
       "<div>\n",
       "<style scoped>\n",
       "    .dataframe tbody tr th:only-of-type {\n",
       "        vertical-align: middle;\n",
       "    }\n",
       "\n",
       "    .dataframe tbody tr th {\n",
       "        vertical-align: top;\n",
       "    }\n",
       "\n",
       "    .dataframe thead th {\n",
       "        text-align: right;\n",
       "    }\n",
       "</style>\n",
       "<table border=\"1\" class=\"dataframe\">\n",
       "  <thead>\n",
       "    <tr style=\"text-align: right;\">\n",
       "      <th></th>\n",
       "      <th>U.S. Custom Ports</th>\n",
       "      <th>Coast</th>\n",
       "      <th>2000</th>\n",
       "      <th>2001</th>\n",
       "      <th>2002</th>\n",
       "      <th>2003</th>\n",
       "      <th>2004</th>\n",
       "      <th>2005</th>\n",
       "      <th>2006</th>\n",
       "      <th>2007</th>\n",
       "      <th>2008</th>\n",
       "      <th>2009</th>\n",
       "      <th>2010</th>\n",
       "      <th>2011</th>\n",
       "      <th>2012</th>\n",
       "      <th>2013</th>\n",
       "      <th>2014</th>\n",
       "      <th>2015</th>\n",
       "      <th>2016</th>\n",
       "      <th>2017</th>\n",
       "    </tr>\n",
       "  </thead>\n",
       "  <tbody>\n",
       "    <tr>\n",
       "      <th>0</th>\n",
       "      <td>Aberdeen, WA</td>\n",
       "      <td>P</td>\n",
       "      <td>0</td>\n",
       "      <td>0</td>\n",
       "      <td>0</td>\n",
       "      <td>0</td>\n",
       "      <td>0</td>\n",
       "      <td>8</td>\n",
       "      <td>0</td>\n",
       "      <td>0</td>\n",
       "      <td>0</td>\n",
       "      <td>29</td>\n",
       "      <td>0</td>\n",
       "      <td>16</td>\n",
       "      <td>414</td>\n",
       "      <td>645</td>\n",
       "      <td>855</td>\n",
       "      <td>43</td>\n",
       "      <td>505</td>\n",
       "      <td>383</td>\n",
       "    </tr>\n",
       "    <tr>\n",
       "      <th>1</th>\n",
       "      <td>Anacortes, WA</td>\n",
       "      <td>P</td>\n",
       "      <td>0</td>\n",
       "      <td>0</td>\n",
       "      <td>0</td>\n",
       "      <td>0</td>\n",
       "      <td>0</td>\n",
       "      <td>0</td>\n",
       "      <td>0</td>\n",
       "      <td>0</td>\n",
       "      <td>0</td>\n",
       "      <td>0</td>\n",
       "      <td>0</td>\n",
       "      <td>0</td>\n",
       "      <td>0</td>\n",
       "      <td>11</td>\n",
       "      <td>0</td>\n",
       "      <td>0</td>\n",
       "      <td>0</td>\n",
       "      <td>0</td>\n",
       "    </tr>\n",
       "    <tr>\n",
       "      <th>2</th>\n",
       "      <td>Anchorage, AK</td>\n",
       "      <td>AK</td>\n",
       "      <td>0</td>\n",
       "      <td>0</td>\n",
       "      <td>0</td>\n",
       "      <td>3,135</td>\n",
       "      <td>28,495</td>\n",
       "      <td>4,949</td>\n",
       "      <td>1,185</td>\n",
       "      <td>824</td>\n",
       "      <td>663</td>\n",
       "      <td>1,208</td>\n",
       "      <td>540</td>\n",
       "      <td>2,302</td>\n",
       "      <td>5,471</td>\n",
       "      <td>13,274</td>\n",
       "      <td>6,792</td>\n",
       "      <td>11,646</td>\n",
       "      <td>15,823</td>\n",
       "      <td>18,779</td>\n",
       "    </tr>\n",
       "    <tr>\n",
       "      <th>3</th>\n",
       "      <td>Baltimore, MD</td>\n",
       "      <td>A</td>\n",
       "      <td>1,899,689</td>\n",
       "      <td>1,942,158</td>\n",
       "      <td>2,189,129</td>\n",
       "      <td>2,077,996</td>\n",
       "      <td>2,641,888</td>\n",
       "      <td>2,640,988</td>\n",
       "      <td>2,824,549</td>\n",
       "      <td>2,756,330</td>\n",
       "      <td>2,855,096</td>\n",
       "      <td>2,380,630</td>\n",
       "      <td>2,929,029</td>\n",
       "      <td>3,108,746</td>\n",
       "      <td>3,243,542</td>\n",
       "      <td>3,438,606</td>\n",
       "      <td>3,691,480</td>\n",
       "      <td>3,977,777</td>\n",
       "      <td>4,264,068</td>\n",
       "      <td>4,871,362</td>\n",
       "    </tr>\n",
       "    <tr>\n",
       "      <th>4</th>\n",
       "      <td>Baton Rouge, LA</td>\n",
       "      <td>G</td>\n",
       "      <td>8</td>\n",
       "      <td>0</td>\n",
       "      <td>959</td>\n",
       "      <td>21</td>\n",
       "      <td>3</td>\n",
       "      <td>149</td>\n",
       "      <td>1,562</td>\n",
       "      <td>0</td>\n",
       "      <td>0</td>\n",
       "      <td>1,164</td>\n",
       "      <td>6,456</td>\n",
       "      <td>2,587</td>\n",
       "      <td>12</td>\n",
       "      <td>1,987</td>\n",
       "      <td>72</td>\n",
       "      <td>0</td>\n",
       "      <td>27</td>\n",
       "      <td>0</td>\n",
       "    </tr>\n",
       "  </tbody>\n",
       "</table>\n",
       "</div>"
      ],
      "text/plain": [
       "  U.S. Custom Ports Coast       2000       2001       2002       2003  \\\n",
       "0      Aberdeen, WA     P          0          0          0          0   \n",
       "1     Anacortes, WA     P          0          0          0          0   \n",
       "2     Anchorage, AK    AK          0          0          0      3,135   \n",
       "3     Baltimore, MD     A  1,899,689  1,942,158  2,189,129  2,077,996   \n",
       "4   Baton Rouge, LA     G          8          0        959         21   \n",
       "\n",
       "        2004       2005       2006       2007       2008       2009  \\\n",
       "0          0          8          0          0          0         29   \n",
       "1          0          0          0          0          0          0   \n",
       "2     28,495      4,949      1,185        824        663      1,208   \n",
       "3  2,641,888  2,640,988  2,824,549  2,756,330  2,855,096  2,380,630   \n",
       "4          3        149      1,562          0          0      1,164   \n",
       "\n",
       "        2010       2011       2012       2013       2014       2015  \\\n",
       "0          0         16        414        645        855         43   \n",
       "1          0          0          0         11          0          0   \n",
       "2        540      2,302      5,471     13,274      6,792     11,646   \n",
       "3  2,929,029  3,108,746  3,243,542  3,438,606  3,691,480  3,977,777   \n",
       "4      6,456      2,587         12      1,987         72          0   \n",
       "\n",
       "        2016       2017  \n",
       "0        505        383  \n",
       "1          0          0  \n",
       "2     15,823     18,779  \n",
       "3  4,264,068  4,871,362  \n",
       "4         27          0  "
      ]
     },
     "execution_count": 14,
     "metadata": {},
     "output_type": "execute_result"
    }
   ],
   "source": [
    "data = pd.read_csv('container-ports-2000-2017.csv')\n",
    "data.head(5)"
   ]
  },
  {
   "cell_type": "markdown",
   "id": "deluxe-edinburgh",
   "metadata": {},
   "source": [
    "# Extract state data"
   ]
  },
  {
   "cell_type": "code",
   "execution_count": 15,
   "id": "million-thursday",
   "metadata": {},
   "outputs": [],
   "source": [
    "data['state'] = data['U.S. Custom Ports'].apply(lambda x: x.split(',')[1])\n",
    "data['U.S. Custom Ports'] = data['U.S. Custom Ports'].apply(lambda x: x.split(',')[0])"
   ]
  },
  {
   "cell_type": "code",
   "execution_count": 16,
   "id": "destroyed-conversation",
   "metadata": {
    "scrolled": true
   },
   "outputs": [
    {
     "data": {
      "text/plain": [
       "<AxesSubplot:xlabel='Year', ylabel='Containers'>"
      ]
     },
     "execution_count": 16,
     "metadata": {},
     "output_type": "execute_result"
    },
    {
     "data": {
      "image/png": "[encoded data removed]",
      "text/plain": [
       "<Figure size 432x288 with 1 Axes>"
      ]
     },
     "metadata": {
      "needs_background": "light"
     },
     "output_type": "display_data"
    }
   ],
   "source": [
    "data_int = data.astype(str).applymap(lambda x: x.replace(',', '')).iloc[:, 2:-1].astype(int)\n",
    "data_int.sum(axis=0).plot(xlabel='Year', ylabel='Containers')\n"
   ]
  },
  {
   "cell_type": "code",
   "execution_count": 18,
   "id": "pregnant-innocent",
   "metadata": {},
   "outputs": [],
   "source": [
    "data = data.melt(id_vars=['U.S. Custom Ports', 'state', 'Coast'], value_name='Containers', var_name='Year')"
   ]
  },
  {
   "cell_type": "code",
   "execution_count": 19,
   "id": "present-florence",
   "metadata": {},
   "outputs": [],
   "source": [
    "data['Containers'] = data['Containers'].astype(str).apply(lambda x: x.replace(',', '')).astype(int)"
   ]
  },
  {
   "cell_type": "code",
   "execution_count": 20,
   "id": "civic-colors",
   "metadata": {},
   "outputs": [
    {
     "data": {
      "text/html": [
       "<div>\n",
       "<style scoped>\n",
       "    .dataframe tbody tr th:only-of-type {\n",
       "        vertical-align: middle;\n",
       "    }\n",
       "\n",
       "    .dataframe tbody tr th {\n",
       "        vertical-align: top;\n",
       "    }\n",
       "\n",
       "    .dataframe thead th {\n",
       "        text-align: right;\n",
       "    }\n",
       "</style>\n",
       "<table border=\"1\" class=\"dataframe\">\n",
       "  <thead>\n",
       "    <tr style=\"text-align: right;\">\n",
       "      <th></th>\n",
       "      <th>U.S. Custom Ports</th>\n",
       "      <th>state</th>\n",
       "      <th>Coast</th>\n",
       "      <th>Year</th>\n",
       "      <th>Containers</th>\n",
       "    </tr>\n",
       "  </thead>\n",
       "  <tbody>\n",
       "    <tr>\n",
       "      <th>0</th>\n",
       "      <td>Aberdeen</td>\n",
       "      <td>WA</td>\n",
       "      <td>P</td>\n",
       "      <td>2000</td>\n",
       "      <td>0</td>\n",
       "    </tr>\n",
       "    <tr>\n",
       "      <th>1</th>\n",
       "      <td>Anacortes</td>\n",
       "      <td>WA</td>\n",
       "      <td>P</td>\n",
       "      <td>2000</td>\n",
       "      <td>0</td>\n",
       "    </tr>\n",
       "    <tr>\n",
       "      <th>2</th>\n",
       "      <td>Anchorage</td>\n",
       "      <td>AK</td>\n",
       "      <td>AK</td>\n",
       "      <td>2000</td>\n",
       "      <td>0</td>\n",
       "    </tr>\n",
       "    <tr>\n",
       "      <th>3</th>\n",
       "      <td>Baltimore</td>\n",
       "      <td>MD</td>\n",
       "      <td>A</td>\n",
       "      <td>2000</td>\n",
       "      <td>1899689</td>\n",
       "    </tr>\n",
       "    <tr>\n",
       "      <th>4</th>\n",
       "      <td>Baton Rouge</td>\n",
       "      <td>LA</td>\n",
       "      <td>G</td>\n",
       "      <td>2000</td>\n",
       "      <td>8</td>\n",
       "    </tr>\n",
       "    <tr>\n",
       "      <th>...</th>\n",
       "      <td>...</td>\n",
       "      <td>...</td>\n",
       "      <td>...</td>\n",
       "      <td>...</td>\n",
       "      <td>...</td>\n",
       "    </tr>\n",
       "    <tr>\n",
       "      <th>1129</th>\n",
       "      <td>Tampa</td>\n",
       "      <td>FL</td>\n",
       "      <td>G</td>\n",
       "      <td>2017</td>\n",
       "      <td>437302</td>\n",
       "    </tr>\n",
       "    <tr>\n",
       "      <th>1130</th>\n",
       "      <td>Vancouver</td>\n",
       "      <td>WA</td>\n",
       "      <td>P</td>\n",
       "      <td>2017</td>\n",
       "      <td>7416</td>\n",
       "    </tr>\n",
       "    <tr>\n",
       "      <th>1131</th>\n",
       "      <td>West Palm Beach</td>\n",
       "      <td>FL</td>\n",
       "      <td>A</td>\n",
       "      <td>2017</td>\n",
       "      <td>367329</td>\n",
       "    </tr>\n",
       "    <tr>\n",
       "      <th>1132</th>\n",
       "      <td>Wilmington</td>\n",
       "      <td>DE</td>\n",
       "      <td>A</td>\n",
       "      <td>2017</td>\n",
       "      <td>1738055</td>\n",
       "    </tr>\n",
       "    <tr>\n",
       "      <th>1133</th>\n",
       "      <td>Wilmington</td>\n",
       "      <td>NC</td>\n",
       "      <td>A</td>\n",
       "      <td>2017</td>\n",
       "      <td>583105</td>\n",
       "    </tr>\n",
       "  </tbody>\n",
       "</table>\n",
       "<p>1134 rows × 5 columns</p>\n",
       "</div>"
      ],
      "text/plain": [
       "     U.S. Custom Ports state Coast  Year  Containers\n",
       "0             Aberdeen    WA     P  2000           0\n",
       "1            Anacortes    WA     P  2000           0\n",
       "2            Anchorage    AK    AK  2000           0\n",
       "3            Baltimore    MD     A  2000     1899689\n",
       "4          Baton Rouge    LA     G  2000           8\n",
       "...                ...   ...   ...   ...         ...\n",
       "1129             Tampa    FL     G  2017      437302\n",
       "1130         Vancouver    WA     P  2017        7416\n",
       "1131   West Palm Beach    FL     A  2017      367329\n",
       "1132        Wilmington    DE     A  2017     1738055\n",
       "1133        Wilmington    NC     A  2017      583105\n",
       "\n",
       "[1134 rows x 5 columns]"
      ]
     },
     "execution_count": 20,
     "metadata": {},
     "output_type": "execute_result"
    }
   ],
   "source": [
    "data"
   ]
  },
  {
   "cell_type": "code",
   "execution_count": 22,
   "id": "unique-saturday",
   "metadata": {},
   "outputs": [],
   "source": [
    "df_to_plot = data.groupby(['Coast', 'Year']).sum()"
   ]
  },
  {
   "cell_type": "code",
   "execution_count": 25,
   "id": "automatic-theta",
   "metadata": {},
   "outputs": [
    {
     "data": {
      "text/plain": [
       "<AxesSubplot:xlabel='Year', ylabel='Containers'>"
      ]
     },
     "execution_count": 25,
     "metadata": {},
     "output_type": "execute_result"
    },
    {
     "data": {
      "image/png": "[encoded data removed]",
      "text/plain": [
       "<Figure size 720x432 with 1 Axes>"
      ]
     },
     "metadata": {},
     "output_type": "display_data"
    }
   ],
   "source": [
    "sns.lineplot(data=df_to_plot, x='Year', y='Containers', hue='Coast')"
   ]
  }
 ],
 "metadata": {
  "kernelspec": {
   "display_name": "Python 3",
   "language": "python",
   "name": "python3"
  },
  "language_info": {
   "codemirror_mode": {
    "name": "ipython",
    "version": 3
   },
   "file_extension": ".py",
   "mimetype": "text/x-python",
   "name": "python",
   "nbconvert_exporter": "python",
   "pygments_lexer": "ipython3",
   "version": "3.7.7"
  }
 },
 "nbformat": 4,
 "nbformat_minor": 5
}
